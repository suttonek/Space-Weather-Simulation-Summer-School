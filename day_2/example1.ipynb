{
 "cells": [
  {
   "cell_type": "markdown",
   "id": "e17344ab",
   "metadata": {},
   "source": [
    "# Read ASCII File"
   ]
  },
  {
   "cell_type": "markdown",
   "id": "057e3f45",
   "metadata": {},
   "source": [
    "Import libaries before using them"
   ]
  },
  {
   "cell_type": "code",
   "execution_count": 4,
   "id": "e7f14e62",
   "metadata": {},
   "outputs": [],
   "source": [
    "import numpy as np\n",
    "import pandas as pd"
   ]
  },
  {
   "cell_type": "markdown",
   "id": "39b706e4",
   "metadata": {},
   "source": [
    "An example of a function reading an ascii file. "
   ]
  },
  {
   "cell_type": "code",
   "execution_count": 5,
   "id": "2d9f8df1",
   "metadata": {},
   "outputs": [],
   "source": [
    "def read_ascii_file(filename,index):\n",
    "    \"This reads an ascii file of omni data\"\n",
    "    with open(filename) as f:\n",
    "        year = []\n",
    "        day = []\n",
    "        hour = []\n",
    "        minute = []   \n",
    "        data = []\n",
    "        for line in f:\n",
    "            tmp = line.split()\n",
    "            year.append(int(tmp[0]))\n",
    "            day.append(int(tmp[1]))\n",
    "            hour.append(int(tmp[2]))\n",
    "            minute.append(int(tmp[3]))\n",
    "            data.append(int(tmp[index]))  \n",
    "    \n",
    "    data = np.array(data)\n",
    "    year = np.array(year)\n",
    "    day = np.array(day)\n",
    "    hour = np.array(hour)\n",
    "    minute = np.array(minute)\n",
    "    \n",
    "    return year, day, hour, minute, data"
   ]
  },
  {
   "cell_type": "markdown",
   "id": "d852717d",
   "metadata": {},
   "source": [
    "We can execute it by calling it from another function or directly from the python prompt. In the following code, the function is called to read \"omni_min_case_2013.lst\" that includes the symh index from March 16-18, 2013. "
   ]
  },
  {
   "cell_type": "code",
   "execution_count": 6,
   "id": "e1ceb485",
   "metadata": {},
   "outputs": [
    {
     "name": "stdout",
     "output_type": "stream",
     "text": [
      "[2013 2013 2013 ... 2013 2013 2013]\n",
      "[75 75 75 ... 77 77 77]\n",
      "[ 0  0  0 ... 23 23 23]\n",
      "[ -7  -7  -7 ... -49 -49 -49]\n"
     ]
    }
   ],
   "source": [
    "file = '../data/omni_min_case_2013.lst'\n",
    "index = -1\n",
    "year, day, hour, minute, data = read_ascii_file(file,index)\n",
    "print(year)\n",
    "print(day)\n",
    "print(hour)\n",
    "print(data)"
   ]
  },
  {
   "cell_type": "markdown",
   "id": "46801cdf",
   "metadata": {},
   "source": [
    "The datetime module supplies classes for manipulating dates and times (https://docs.python.org/3/library/datetime.html). We can creat a datetime.datetime object to contain the year, day of month, month, hour, minute, etc. "
   ]
  },
  {
   "cell_type": "code",
   "execution_count": 15,
   "id": "89a8e65e",
   "metadata": {},
   "outputs": [],
   "source": [
    "import datetime as dt\n",
    "\n",
    "def read_ascii_file(file,index): \n",
    "    \"This reads an ascii file of omni data\"\n",
    "    with open(file) as f:\n",
    "        year = []\n",
    "        day = []\n",
    "        hour = []\n",
    "        minute = []\n",
    "\n",
    "        time = []          \n",
    "        data = []\n",
    "        for line in f:\n",
    "            tmp = line.split()\n",
    "            year.append(int(tmp[0]))\n",
    "            day.append(int(tmp[1]))\n",
    "            hour.append(int(tmp[2]))\n",
    "            minute.append(int(tmp[3]))\n",
    "            \n",
    "            # create datetime in each line\n",
    "            time0 = dt.datetime(int(tmp[0]),1,1,int(tmp[2]),int(tmp[3]),0)\\\n",
    "                          + dt.timedelta(days=int(tmp[1])-1)     \n",
    "            time.append(time0)\n",
    "            data.append(float(tmp[index]))\n",
    "    \n",
    "    time = np.array(time)\n",
    "    data = np.array(data)\n",
    "    year = np.array(year)\n",
    "    day = np.array(day)\n",
    "    hour = np.array(hour)\n",
    "    minute = np.array(minute)\n",
    "    \n",
    "    return time,year,day,hour,minute,data"
   ]
  },
  {
   "cell_type": "markdown",
   "id": "75918873",
   "metadata": {},
   "source": [
    "Now call the new function that outputs a datetime object."
   ]
  },
  {
   "cell_type": "code",
   "execution_count": 16,
   "id": "3661257b",
   "metadata": {},
   "outputs": [
    {
     "name": "stdout",
     "output_type": "stream",
     "text": [
      "[datetime.datetime(2013, 3, 16, 0, 0) datetime.datetime(2013, 3, 16, 0, 1)\n",
      " datetime.datetime(2013, 3, 16, 0, 2) ...\n",
      " datetime.datetime(2013, 3, 18, 23, 57)\n",
      " datetime.datetime(2013, 3, 18, 23, 58)\n",
      " datetime.datetime(2013, 3, 18, 23, 59)]\n",
      "[2013 2013 2013 ... 2013 2013 2013]\n",
      "[75 75 75 ... 77 77 77]\n",
      "[ 0  0  0 ... 23 23 23]\n",
      "[ -7.  -7.  -7. ... -49. -49. -49.]\n"
     ]
    }
   ],
   "source": [
    "file = '../data/omni_min_case_2013.lst'\n",
    "index = -1\n",
    "time, year, day, hour, minute, data = read_ascii_file(file,index)\n",
    "print(time)\n",
    "print(year)\n",
    "print(day)\n",
    "print(hour)\n",
    "print(data)"
   ]
  },
  {
   "attachments": {},
   "cell_type": "markdown",
   "id": "7f1a21e1",
   "metadata": {},
   "source": [
    "matplotlib.pyplot is a collection of functions that make matplotlib work like MATLAB (https://matplotlib.org/stable/tutorials/introductory/pyplot.html). matplotlib.pyplot.plot plots y versus x as lines and/or markers (https://matplotlib.org/stable/api/_as_gen/matplotlib.pyplot.plot.html#matplotlib.pyplot.plot). We can make a simple plot of symh as a function of time."
   ]
  },
  {
   "cell_type": "code",
   "execution_count": 17,
   "id": "484624b8",
   "metadata": {},
   "outputs": [
    {
     "data": {
      "text/plain": [
       "<matplotlib.legend.Legend at 0x7f82998bcf40>"
      ]
     },
     "execution_count": 17,
     "metadata": {},
     "output_type": "execute_result"
    },
    {
     "data": {
      "image/png": "[encoded data removed]",
      "text/plain": [
       "<Figure size 432x288 with 1 Axes>"
      ]
     },
     "metadata": {
      "needs_background": "light"
     },
     "output_type": "display_data"
    }
   ],
   "source": [
    "import matplotlib.pyplot as plt  # import matplotlib.pyplot \n",
    "\n",
    "fig,ax = plt.subplots()\n",
    "\n",
    "ax.plot(time,data,marker='.',c='gray',\n",
    "        label='All Events',alpha=0.5)\n",
    "\n",
    "ax.set_xlabel('Year of 2013')\n",
    "ax.set_ylabel('SYMH (nT)')\n",
    "ax.grid(True)\n",
    "ax.legend()"
   ]
  },
  {
   "cell_type": "markdown",
   "id": "0a9e9eff",
   "metadata": {},
   "source": [
    "In practice, we may need to select elements or indices by conditions from numpy array. In the following code, we select the time and data with symh < -100 nT, and overplot them on the curve of all symh events. "
   ]
  },
  {
   "cell_type": "code",
   "execution_count": 18,
   "id": "a99085a2",
   "metadata": {},
   "outputs": [
    {
     "data": {
      "text/plain": [
       "<matplotlib.legend.Legend at 0x7f8299883a30>"
      ]
     },
     "execution_count": 18,
     "metadata": {},
     "output_type": "execute_result"
    },
    {
     "data": {
      "image/png": "[encoded data removed]",
      "text/plain": [
       "<Figure size 432x288 with 1 Axes>"
      ]
     },
     "metadata": {
      "needs_background": "light"
     },
     "output_type": "display_data"
    }
   ],
   "source": [
    "fig,ax = plt.subplots()\n",
    "\n",
    "ax.plot(time,data,marker='.',c='gray',\n",
    "        label='All Events',alpha=0.5)\n",
    "\n",
    "# apply < operator on array, then lp is a bool numpy array \n",
    "lp = data <-100\n",
    "\n",
    "# pass lp to subscript operator [] \n",
    "# it returns a new array containing elements in the position of True in lp\n",
    "ax.plot(time[lp],data[lp],marker='+',\n",
    "        linestyle='',\n",
    "        c= 'tab:orange',\n",
    "        label='<-100 nT',\n",
    "        alpha=0.6)\n",
    "ax.set_xlabel('Year of 2013')\n",
    "ax.set_ylabel('SYMH (nT)')\n",
    "ax.grid(True)\n",
    "ax.legend()"
   ]
  }
 ],
 "metadata": {
  "kernelspec": {
   "display_name": "Python 3 (ipykernel)",
   "language": "python",
   "name": "python3"
  },
  "language_info": {
   "codemirror_mode": {
    "name": "ipython",
    "version": 3
   },
   "file_extension": ".py",
   "mimetype": "text/x-python",
   "name": "python",
   "nbconvert_exporter": "python",
   "pygments_lexer": "ipython3",
   "version": "3.9.7"
  }
 },
 "nbformat": 4,
 "nbformat_minor": 5
}
