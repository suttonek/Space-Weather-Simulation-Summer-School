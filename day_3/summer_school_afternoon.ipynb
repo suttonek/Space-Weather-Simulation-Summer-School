{
 "cells": [
  {
   "cell_type": "markdown",
   "metadata": {
    "id": "hkj6m1UwoG0W"
   },
   "source": [
    "# Working with Panda Dataframe, based on tutorial provided by TensorFlow."
   ]
  },
  {
   "cell_type": "markdown",
   "metadata": {
    "id": "D3y1HsDwqGqS"
   },
   "source": [
    "This tutorial uses a weather time series dataset recorded by the Max Planck Institute for Biogeochemistry.\n",
    "\n",
    "This dataset contains 14 different features such as air temperature, atmospheric pressure, and humidity. These were collected every 10 minutes, beginning in 2003. For efficiency, you will use only the data collected between 2009 and 2016. This section of the dataset was prepared by François Chollet for his book Deep Learning with Python.\n",
    "\n",
    "We will first begin by unzipping the file."
   ]
  },
  {
   "cell_type": "code",
   "execution_count": 1,
   "metadata": {},
   "outputs": [],
   "source": [
    "import zipfile\n",
    "\n",
    "with zipfile.ZipFile('Data/jena_climate_2009_2016.csv.zip', 'r') as zip_ref:\n",
    "    zip_ref.extractall('Data/jena_climate_2009_2016/')"
   ]
  },
  {
   "cell_type": "markdown",
   "metadata": {},
   "source": [
    "We will be reading the csv file using panda dataframe"
   ]
  },
  {
   "cell_type": "code",
   "execution_count": 2,
   "metadata": {},
   "outputs": [],
   "source": [
    "import pandas as pd\n",
    "\n",
    "csv_path = 'Data/jena_climate_2009_2016/jena_climate_2009_2016.csv'\n",
    "df = pd.read_csv(csv_path)"
   ]
  },
  {
   "cell_type": "markdown",
   "metadata": {
    "id": "vWhB-jFgqOkt"
   },
   "source": [
    "This tutorial will just deal with hourly predictions, so start by sub-sampling the data from 10-minute intervals to one-hour intervals:"
   ]
  },
  {
   "cell_type": "code",
   "execution_count": 3,
   "metadata": {
    "executionInfo": {
     "elapsed": 2169,
     "status": "ok",
     "timestamp": 1657734693481,
     "user": {
      "displayName": "Peng Mun Siew",
      "userId": "05741391674252387315"
     },
     "user_tz": 240
    },
    "id": "KtCJb3AclxJc"
   },
   "outputs": [],
   "source": [
    "# Slice [start:stop:step], starting from index 5 take every 6th record. array-style slicing\n",
    "df = df[5::6]\n",
    "\n",
    "# Let's remove the datetime value and make it into a separate variable\n",
    "date_time = pd.to_datetime(df.pop('Date Time'), format='%d.%m.%Y %H:%M:%S')\n"
   ]
  },
  {
   "cell_type": "markdown",
   "metadata": {},
   "source": [
    "To quickly examine the first few rows of the data, we can use the following command-df.head(). We can also use df.tail() to read the last five rows of the data."
   ]
  },
  {
   "cell_type": "code",
   "execution_count": 4,
   "metadata": {
    "colab": {
     "base_uri": "https://localhost:8080/",
     "height": 302
    },
    "executionInfo": {
     "elapsed": 147,
     "status": "ok",
     "timestamp": 1657734693623,
     "user": {
      "displayName": "Peng Mun Siew",
      "userId": "05741391674252387315"
     },
     "user_tz": 240
    },
    "id": "jH79L1tDlxdP",
    "outputId": "171f5230-eefb-4779-a492-7be94bcf62db"
   },
   "outputs": [
    {
     "data": {
      "text/html": [
       "<div>\n",
       "<style scoped>\n",
       "    .dataframe tbody tr th:only-of-type {\n",
       "        vertical-align: middle;\n",
       "    }\n",
       "\n",
       "    .dataframe tbody tr th {\n",
       "        vertical-align: top;\n",
       "    }\n",
       "\n",
       "    .dataframe thead th {\n",
       "        text-align: right;\n",
       "    }\n",
       "</style>\n",
       "<table border=\"1\" class=\"dataframe\">\n",
       "  <thead>\n",
       "    <tr style=\"text-align: right;\">\n",
       "      <th></th>\n",
       "      <th>p (mbar)</th>\n",
       "      <th>T (degC)</th>\n",
       "      <th>Tpot (K)</th>\n",
       "      <th>Tdew (degC)</th>\n",
       "      <th>rh (%)</th>\n",
       "      <th>VPmax (mbar)</th>\n",
       "      <th>VPact (mbar)</th>\n",
       "      <th>VPdef (mbar)</th>\n",
       "      <th>sh (g/kg)</th>\n",
       "      <th>H2OC (mmol/mol)</th>\n",
       "      <th>rho (g/m**3)</th>\n",
       "      <th>wv (m/s)</th>\n",
       "      <th>max. wv (m/s)</th>\n",
       "      <th>wd (deg)</th>\n",
       "    </tr>\n",
       "  </thead>\n",
       "  <tbody>\n",
       "    <tr>\n",
       "      <th>5</th>\n",
       "      <td>996.50</td>\n",
       "      <td>-8.05</td>\n",
       "      <td>265.38</td>\n",
       "      <td>-8.78</td>\n",
       "      <td>94.4</td>\n",
       "      <td>3.33</td>\n",
       "      <td>3.14</td>\n",
       "      <td>0.19</td>\n",
       "      <td>1.96</td>\n",
       "      <td>3.15</td>\n",
       "      <td>1307.86</td>\n",
       "      <td>0.21</td>\n",
       "      <td>0.63</td>\n",
       "      <td>192.7</td>\n",
       "    </tr>\n",
       "    <tr>\n",
       "      <th>11</th>\n",
       "      <td>996.62</td>\n",
       "      <td>-8.88</td>\n",
       "      <td>264.54</td>\n",
       "      <td>-9.77</td>\n",
       "      <td>93.2</td>\n",
       "      <td>3.12</td>\n",
       "      <td>2.90</td>\n",
       "      <td>0.21</td>\n",
       "      <td>1.81</td>\n",
       "      <td>2.91</td>\n",
       "      <td>1312.25</td>\n",
       "      <td>0.25</td>\n",
       "      <td>0.63</td>\n",
       "      <td>190.3</td>\n",
       "    </tr>\n",
       "    <tr>\n",
       "      <th>17</th>\n",
       "      <td>996.84</td>\n",
       "      <td>-8.81</td>\n",
       "      <td>264.59</td>\n",
       "      <td>-9.66</td>\n",
       "      <td>93.5</td>\n",
       "      <td>3.13</td>\n",
       "      <td>2.93</td>\n",
       "      <td>0.20</td>\n",
       "      <td>1.83</td>\n",
       "      <td>2.94</td>\n",
       "      <td>1312.18</td>\n",
       "      <td>0.18</td>\n",
       "      <td>0.63</td>\n",
       "      <td>167.2</td>\n",
       "    </tr>\n",
       "    <tr>\n",
       "      <th>23</th>\n",
       "      <td>996.99</td>\n",
       "      <td>-9.05</td>\n",
       "      <td>264.34</td>\n",
       "      <td>-10.02</td>\n",
       "      <td>92.6</td>\n",
       "      <td>3.07</td>\n",
       "      <td>2.85</td>\n",
       "      <td>0.23</td>\n",
       "      <td>1.78</td>\n",
       "      <td>2.85</td>\n",
       "      <td>1313.61</td>\n",
       "      <td>0.10</td>\n",
       "      <td>0.38</td>\n",
       "      <td>240.0</td>\n",
       "    </tr>\n",
       "    <tr>\n",
       "      <th>29</th>\n",
       "      <td>997.46</td>\n",
       "      <td>-9.63</td>\n",
       "      <td>263.72</td>\n",
       "      <td>-10.65</td>\n",
       "      <td>92.2</td>\n",
       "      <td>2.94</td>\n",
       "      <td>2.71</td>\n",
       "      <td>0.23</td>\n",
       "      <td>1.69</td>\n",
       "      <td>2.71</td>\n",
       "      <td>1317.19</td>\n",
       "      <td>0.40</td>\n",
       "      <td>0.88</td>\n",
       "      <td>157.0</td>\n",
       "    </tr>\n",
       "  </tbody>\n",
       "</table>\n",
       "</div>"
      ],
      "text/plain": [
       "    p (mbar)  T (degC)  Tpot (K)  Tdew (degC)  rh (%)  VPmax (mbar)  \\\n",
       "5     996.50     -8.05    265.38        -8.78    94.4          3.33   \n",
       "11    996.62     -8.88    264.54        -9.77    93.2          3.12   \n",
       "17    996.84     -8.81    264.59        -9.66    93.5          3.13   \n",
       "23    996.99     -9.05    264.34       -10.02    92.6          3.07   \n",
       "29    997.46     -9.63    263.72       -10.65    92.2          2.94   \n",
       "\n",
       "    VPact (mbar)  VPdef (mbar)  sh (g/kg)  H2OC (mmol/mol)  rho (g/m**3)  \\\n",
       "5           3.14          0.19       1.96             3.15       1307.86   \n",
       "11          2.90          0.21       1.81             2.91       1312.25   \n",
       "17          2.93          0.20       1.83             2.94       1312.18   \n",
       "23          2.85          0.23       1.78             2.85       1313.61   \n",
       "29          2.71          0.23       1.69             2.71       1317.19   \n",
       "\n",
       "    wv (m/s)  max. wv (m/s)  wd (deg)  \n",
       "5       0.21           0.63     192.7  \n",
       "11      0.25           0.63     190.3  \n",
       "17      0.18           0.63     167.2  \n",
       "23      0.10           0.38     240.0  \n",
       "29      0.40           0.88     157.0  "
      ]
     },
     "execution_count": 4,
     "metadata": {},
     "output_type": "execute_result"
    }
   ],
   "source": [
    "df.head()"
   ]
  },
  {
   "cell_type": "markdown",
   "metadata": {},
   "source": [
    "Now, let's plot some of the data."
   ]
  },
  {
   "cell_type": "code",
   "execution_count": 5,
   "metadata": {
    "colab": {
     "base_uri": "https://localhost:8080/",
     "height": 553
    },
    "executionInfo": {
     "elapsed": 6686,
     "status": "ok",
     "timestamp": 1657734700305,
     "user": {
      "displayName": "Peng Mun Siew",
      "userId": "05741391674252387315"
     },
     "user_tz": 240
    },
    "id": "FEUNiBtilxsn",
    "outputId": "23765067-8aaf-4ff6-f465-52904e0fd638"
   },
   "outputs": [
    {
     "data": {
      "image/png": "[encoded data removed]",
      "text/plain": [
       "<Figure size 432x288 with 3 Axes>"
      ]
     },
     "metadata": {
      "needs_background": "light"
     },
     "output_type": "display_data"
    },
    {
     "data": {
      "image/png": "[encoded data removed]",
      "text/plain": [
       "<Figure size 432x288 with 3 Axes>"
      ]
     },
     "metadata": {
      "needs_background": "light"
     },
     "output_type": "display_data"
    }
   ],
   "source": [
    "plot_cols = ['T (degC)', 'p (mbar)', 'rho (g/m**3)']\n",
    "plot_features = df[plot_cols]\n",
    "plot_features.index = date_time\n",
    "_ = plot_features.plot(subplots=True)\n",
    "\n",
    "plot_features = df[plot_cols][:480]\n",
    "plot_features.index = date_time[:480]\n",
    "_ = plot_features.plot(subplots=True)"
   ]
  },
  {
   "cell_type": "markdown",
   "metadata": {},
   "source": [
    "An advantage of using panda dataframe is that we can quickly obtain the data statistics. This can be useful to spot for outliers within our data."
   ]
  },
  {
   "cell_type": "code",
   "execution_count": 6,
   "metadata": {
    "colab": {
     "base_uri": "https://localhost:8080/",
     "height": 483
    },
    "executionInfo": {
     "elapsed": 370,
     "status": "ok",
     "timestamp": 1657734700670,
     "user": {
      "displayName": "Peng Mun Siew",
      "userId": "05741391674252387315"
     },
     "user_tz": 240
    },
    "id": "y-sm6Y5Cmk0e",
    "outputId": "0a3c5a13-1320-48cd-f65e-1c997ae07dd1"
   },
   "outputs": [
    {
     "data": {
      "text/html": [
       "<div>\n",
       "<style scoped>\n",
       "    .dataframe tbody tr th:only-of-type {\n",
       "        vertical-align: middle;\n",
       "    }\n",
       "\n",
       "    .dataframe tbody tr th {\n",
       "        vertical-align: top;\n",
       "    }\n",
       "\n",
       "    .dataframe thead th {\n",
       "        text-align: right;\n",
       "    }\n",
       "</style>\n",
       "<table border=\"1\" class=\"dataframe\">\n",
       "  <thead>\n",
       "    <tr style=\"text-align: right;\">\n",
       "      <th></th>\n",
       "      <th>count</th>\n",
       "      <th>mean</th>\n",
       "      <th>std</th>\n",
       "      <th>min</th>\n",
       "      <th>25%</th>\n",
       "      <th>50%</th>\n",
       "      <th>75%</th>\n",
       "      <th>max</th>\n",
       "    </tr>\n",
       "  </thead>\n",
       "  <tbody>\n",
       "    <tr>\n",
       "      <th>p (mbar)</th>\n",
       "      <td>70091.0</td>\n",
       "      <td>989.212842</td>\n",
       "      <td>8.358886</td>\n",
       "      <td>913.60</td>\n",
       "      <td>984.20</td>\n",
       "      <td>989.57</td>\n",
       "      <td>994.720</td>\n",
       "      <td>1015.29</td>\n",
       "    </tr>\n",
       "    <tr>\n",
       "      <th>T (degC)</th>\n",
       "      <td>70091.0</td>\n",
       "      <td>9.450482</td>\n",
       "      <td>8.423384</td>\n",
       "      <td>-22.76</td>\n",
       "      <td>3.35</td>\n",
       "      <td>9.41</td>\n",
       "      <td>15.480</td>\n",
       "      <td>37.28</td>\n",
       "    </tr>\n",
       "    <tr>\n",
       "      <th>Tpot (K)</th>\n",
       "      <td>70091.0</td>\n",
       "      <td>283.493086</td>\n",
       "      <td>8.504424</td>\n",
       "      <td>250.85</td>\n",
       "      <td>277.44</td>\n",
       "      <td>283.46</td>\n",
       "      <td>289.530</td>\n",
       "      <td>311.21</td>\n",
       "    </tr>\n",
       "    <tr>\n",
       "      <th>Tdew (degC)</th>\n",
       "      <td>70091.0</td>\n",
       "      <td>4.956471</td>\n",
       "      <td>6.730081</td>\n",
       "      <td>-24.80</td>\n",
       "      <td>0.24</td>\n",
       "      <td>5.21</td>\n",
       "      <td>10.080</td>\n",
       "      <td>23.06</td>\n",
       "    </tr>\n",
       "    <tr>\n",
       "      <th>rh (%)</th>\n",
       "      <td>70091.0</td>\n",
       "      <td>76.009788</td>\n",
       "      <td>16.474920</td>\n",
       "      <td>13.88</td>\n",
       "      <td>65.21</td>\n",
       "      <td>79.30</td>\n",
       "      <td>89.400</td>\n",
       "      <td>100.00</td>\n",
       "    </tr>\n",
       "    <tr>\n",
       "      <th>VPmax (mbar)</th>\n",
       "      <td>70091.0</td>\n",
       "      <td>13.576576</td>\n",
       "      <td>7.739883</td>\n",
       "      <td>0.97</td>\n",
       "      <td>7.77</td>\n",
       "      <td>11.82</td>\n",
       "      <td>17.610</td>\n",
       "      <td>63.77</td>\n",
       "    </tr>\n",
       "    <tr>\n",
       "      <th>VPact (mbar)</th>\n",
       "      <td>70091.0</td>\n",
       "      <td>9.533968</td>\n",
       "      <td>4.183658</td>\n",
       "      <td>0.81</td>\n",
       "      <td>6.22</td>\n",
       "      <td>8.86</td>\n",
       "      <td>12.360</td>\n",
       "      <td>28.25</td>\n",
       "    </tr>\n",
       "    <tr>\n",
       "      <th>VPdef (mbar)</th>\n",
       "      <td>70091.0</td>\n",
       "      <td>4.042536</td>\n",
       "      <td>4.898549</td>\n",
       "      <td>0.00</td>\n",
       "      <td>0.87</td>\n",
       "      <td>2.19</td>\n",
       "      <td>5.300</td>\n",
       "      <td>46.01</td>\n",
       "    </tr>\n",
       "    <tr>\n",
       "      <th>sh (g/kg)</th>\n",
       "      <td>70091.0</td>\n",
       "      <td>6.022560</td>\n",
       "      <td>2.655812</td>\n",
       "      <td>0.51</td>\n",
       "      <td>3.92</td>\n",
       "      <td>5.59</td>\n",
       "      <td>7.800</td>\n",
       "      <td>18.07</td>\n",
       "    </tr>\n",
       "    <tr>\n",
       "      <th>H2OC (mmol/mol)</th>\n",
       "      <td>70091.0</td>\n",
       "      <td>9.640437</td>\n",
       "      <td>4.234862</td>\n",
       "      <td>0.81</td>\n",
       "      <td>6.29</td>\n",
       "      <td>8.96</td>\n",
       "      <td>12.490</td>\n",
       "      <td>28.74</td>\n",
       "    </tr>\n",
       "    <tr>\n",
       "      <th>rho (g/m**3)</th>\n",
       "      <td>70091.0</td>\n",
       "      <td>1216.061232</td>\n",
       "      <td>39.974263</td>\n",
       "      <td>1059.45</td>\n",
       "      <td>1187.47</td>\n",
       "      <td>1213.80</td>\n",
       "      <td>1242.765</td>\n",
       "      <td>1393.54</td>\n",
       "    </tr>\n",
       "    <tr>\n",
       "      <th>wv (m/s)</th>\n",
       "      <td>70091.0</td>\n",
       "      <td>1.702567</td>\n",
       "      <td>65.447512</td>\n",
       "      <td>-9999.00</td>\n",
       "      <td>0.99</td>\n",
       "      <td>1.76</td>\n",
       "      <td>2.860</td>\n",
       "      <td>14.01</td>\n",
       "    </tr>\n",
       "    <tr>\n",
       "      <th>max. wv (m/s)</th>\n",
       "      <td>70091.0</td>\n",
       "      <td>2.963041</td>\n",
       "      <td>75.597657</td>\n",
       "      <td>-9999.00</td>\n",
       "      <td>1.76</td>\n",
       "      <td>2.98</td>\n",
       "      <td>4.740</td>\n",
       "      <td>23.50</td>\n",
       "    </tr>\n",
       "    <tr>\n",
       "      <th>wd (deg)</th>\n",
       "      <td>70091.0</td>\n",
       "      <td>174.789095</td>\n",
       "      <td>86.619431</td>\n",
       "      <td>0.00</td>\n",
       "      <td>125.30</td>\n",
       "      <td>198.10</td>\n",
       "      <td>234.000</td>\n",
       "      <td>360.00</td>\n",
       "    </tr>\n",
       "  </tbody>\n",
       "</table>\n",
       "</div>"
      ],
      "text/plain": [
       "                   count         mean        std      min      25%      50%  \\\n",
       "p (mbar)         70091.0   989.212842   8.358886   913.60   984.20   989.57   \n",
       "T (degC)         70091.0     9.450482   8.423384   -22.76     3.35     9.41   \n",
       "Tpot (K)         70091.0   283.493086   8.504424   250.85   277.44   283.46   \n",
       "Tdew (degC)      70091.0     4.956471   6.730081   -24.80     0.24     5.21   \n",
       "rh (%)           70091.0    76.009788  16.474920    13.88    65.21    79.30   \n",
       "VPmax (mbar)     70091.0    13.576576   7.739883     0.97     7.77    11.82   \n",
       "VPact (mbar)     70091.0     9.533968   4.183658     0.81     6.22     8.86   \n",
       "VPdef (mbar)     70091.0     4.042536   4.898549     0.00     0.87     2.19   \n",
       "sh (g/kg)        70091.0     6.022560   2.655812     0.51     3.92     5.59   \n",
       "H2OC (mmol/mol)  70091.0     9.640437   4.234862     0.81     6.29     8.96   \n",
       "rho (g/m**3)     70091.0  1216.061232  39.974263  1059.45  1187.47  1213.80   \n",
       "wv (m/s)         70091.0     1.702567  65.447512 -9999.00     0.99     1.76   \n",
       "max. wv (m/s)    70091.0     2.963041  75.597657 -9999.00     1.76     2.98   \n",
       "wd (deg)         70091.0   174.789095  86.619431     0.00   125.30   198.10   \n",
       "\n",
       "                      75%      max  \n",
       "p (mbar)          994.720  1015.29  \n",
       "T (degC)           15.480    37.28  \n",
       "Tpot (K)          289.530   311.21  \n",
       "Tdew (degC)        10.080    23.06  \n",
       "rh (%)             89.400   100.00  \n",
       "VPmax (mbar)       17.610    63.77  \n",
       "VPact (mbar)       12.360    28.25  \n",
       "VPdef (mbar)        5.300    46.01  \n",
       "sh (g/kg)           7.800    18.07  \n",
       "H2OC (mmol/mol)    12.490    28.74  \n",
       "rho (g/m**3)     1242.765  1393.54  \n",
       "wv (m/s)            2.860    14.01  \n",
       "max. wv (m/s)       4.740    23.50  \n",
       "wd (deg)          234.000   360.00  "
      ]
     },
     "execution_count": 6,
     "metadata": {},
     "output_type": "execute_result"
    }
   ],
   "source": [
    "df.describe().transpose()"
   ]
  },
  {
   "cell_type": "markdown",
   "metadata": {},
   "source": [
    "From our table above, we noticed that the wind speed (wv) and max. wv has unrealistic values (-9999). These outliers need to be removed from our data by substituting with zero."
   ]
  },
  {
   "cell_type": "code",
   "execution_count": 7,
   "metadata": {
    "colab": {
     "base_uri": "https://localhost:8080/"
    },
    "executionInfo": {
     "elapsed": 10,
     "status": "ok",
     "timestamp": 1657734700673,
     "user": {
      "displayName": "Peng Mun Siew",
      "userId": "05741391674252387315"
     },
     "user_tz": 240
    },
    "id": "PjFeuI2TmlGp",
    "outputId": "5b4f0dd9-07ce-4553-9333-631da9fd6df2"
   },
   "outputs": [
    {
     "data": {
      "text/plain": [
       "0.0"
      ]
     },
     "execution_count": 7,
     "metadata": {},
     "output_type": "execute_result"
    }
   ],
   "source": [
    "# We will first identify the index of the bad data and then replace them with zero\n",
    "wv = df['wv (m/s)']\n",
    "bad_wv = wv == -9999.0\n",
    "wv[bad_wv] = 0.0\n",
    "\n",
    "max_wv = df['max. wv (m/s)']\n",
    "bad_max_wv = max_wv == -9999.0\n",
    "max_wv[bad_max_wv] = 0.0\n",
    "\n",
    "# The above inplace edits are then reflected in the DataFrame.\n",
    "df['wv (m/s)'].min()"
   ]
  },
  {
   "cell_type": "code",
   "execution_count": 20,
   "metadata": {},
   "outputs": [
    {
     "data": {
      "image/png": "[encoded data removed]",
      "text/plain": [
       "<Figure size 576x360 with 1 Axes>"
      ]
     },
     "metadata": {
      "needs_background": "light"
     },
     "output_type": "display_data"
    }
   ],
   "source": [
    "import matplotlib.pyplot as plt\n",
    "\n",
    "fig, axs = plt.subplots(1, figsize=(8, 5))\n",
    "plt.hist(df['wd (deg)'])\n",
    "plt.xlabel('Wind Direction [deg]', fontsize=16)\n",
    "plt.ylabel('Number of Occurence', fontsize=16)\n",
    "plt.tick_params(axis = 'both', which = 'major', labelsize = 14)\n",
    "plt.grid()"
   ]
  },
  {
   "cell_type": "code",
   "execution_count": 17,
   "metadata": {
    "colab": {
     "base_uri": "https://localhost:8080/",
     "height": 409
    },
    "executionInfo": {
     "elapsed": 1225,
     "status": "ok",
     "timestamp": 1657734701892,
     "user": {
      "displayName": "Peng Mun Siew",
      "userId": "05741391674252387315"
     },
     "user_tz": 240
    },
    "id": "Zr4K4YO1pD1h",
    "outputId": "603508d8-bd9e-463a-de3b-16c89dbf432b"
   },
   "outputs": [
    {
     "data": {
      "image/png": "[encoded data removed]",
      "text/plain": [
       "<Figure size 576x360 with 2 Axes>"
      ]
     },
     "metadata": {
      "needs_background": "light"
     },
     "output_type": "display_data"
    }
   ],
   "source": [
    "import matplotlib.pyplot as plt\n",
    "\n",
    "fig, axs = plt.subplots(1, figsize=(8, 5))\n",
    "plt.hist2d(df['wd (deg)'], df['wv (m/s)'], bins=(50, 50), vmax=400)\n",
    "plt.colorbar()\n",
    "plt.xlabel('Wind Direction [deg]', fontsize=16)\n",
    "plt.ylabel('Wind Velocity [m/s]', fontsize=16)\n",
    "plt.tick_params(axis = 'both', which = 'major', labelsize = 14)"
   ]
  },
  {
   "cell_type": "markdown",
   "metadata": {},
   "source": [
    "# Assignment 1: Visualize the density values along the trajectory of the CHAMP satellite for the first 50 days in 2002\n",
    "Trajectory of CHAMP in year 2002 - Data interpolation - https://zenodo.org/record/4602380#.Ys--Fy-B2i5\n",
    "\n",
    "## Part 1: Extract hourly position location (local solar time, lattitude, altitude) from the daily CHAMP data to obtain the hourly trajectory of the CHAMP satellite in 2002"
   ]
  },
  {
   "cell_type": "markdown",
   "metadata": {},
   "source": [
    "### Hint 1: How to identify dir path to files of interest"
   ]
  },
  {
   "cell_type": "code",
   "execution_count": 2,
   "metadata": {},
   "outputs": [],
   "source": [
    "import os\n",
    "\n",
    "datalist2 = [os.path.join(\"Data/Champ_dens_2002/\", file) for file in os.listdir(\"Data/Champ_dens_2002/\") if file.endswith(\".txt\")]\n",
    "\n",
    "datalist = []\n",
    "for file in os.listdir(\"Data/Champ_dens_2002/\"):\n",
    "    if file.endswith(\".txt\"):\n",
    "        datalist.append(os.path.join(\"Data/Champ_dens_2002/\", file))\n",
    "\n",
    "# Practice: Do this using list comprehension        \n",
    "# After getting the file path, sort it in increasing order        \n",
    "sortedChampdata = sorted(datalist)\n",
    "\n",
    "assert len(sortedChampdata) == 180"
   ]
  },
  {
   "cell_type": "markdown",
   "metadata": {},
   "source": [
    "### Hint 2: How to read a tab delimited text file"
   ]
  },
  {
   "cell_type": "code",
   "execution_count": 69,
   "metadata": {},
   "outputs": [
    {
     "data": {
      "text/html": [
       "<div>\n",
       "<style scoped>\n",
       "    .dataframe tbody tr th:only-of-type {\n",
       "        vertical-align: middle;\n",
       "    }\n",
       "\n",
       "    .dataframe tbody tr th {\n",
       "        vertical-align: top;\n",
       "    }\n",
       "\n",
       "    .dataframe thead th {\n",
       "        text-align: right;\n",
       "    }\n",
       "</style>\n",
       "<table border=\"1\" class=\"dataframe\">\n",
       "  <thead>\n",
       "    <tr style=\"text-align: right;\">\n",
       "      <th></th>\n",
       "      <th>GPS Time (sec)</th>\n",
       "      <th>Geodetic Altitude (km)</th>\n",
       "      <th>Geodetic Latitude (deg)</th>\n",
       "      <th>Geodetic Longitude (deg)</th>\n",
       "      <th>Local Solar Time (hours)</th>\n",
       "      <th>Velocity Magnitude (m/s)</th>\n",
       "      <th>Surface Temperature (K)</th>\n",
       "      <th>Free Stream Temperature (K)</th>\n",
       "      <th>Yaw (rad)</th>\n",
       "      <th>Pitch (rad)</th>\n",
       "      <th>Proj_Area_Eric (m^2)</th>\n",
       "      <th>CD_Eric (~)</th>\n",
       "      <th>Density_Eric (kg/m^3)</th>\n",
       "      <th>Proj_Area_New (m^2)</th>\n",
       "      <th>CD_New (~)</th>\n",
       "      <th>Density_New (kg/m^3)</th>\n",
       "      <th>Density_HASDM (kg/m^3)</th>\n",
       "      <th>Density_JB2008 (kg/m^3)</th>\n",
       "    </tr>\n",
       "  </thead>\n",
       "  <tbody>\n",
       "    <tr>\n",
       "      <th>0</th>\n",
       "      <td>0.0</td>\n",
       "      <td>411.103</td>\n",
       "      <td>84.295</td>\n",
       "      <td>-122.957</td>\n",
       "      <td>15.799</td>\n",
       "      <td>7657.209</td>\n",
       "      <td>300.0</td>\n",
       "      <td>1305.112</td>\n",
       "      <td>-0.027</td>\n",
       "      <td>0.012</td>\n",
       "      <td>0.604</td>\n",
       "      <td>3.861</td>\n",
       "      <td>5.364000e-12</td>\n",
       "      <td>0.893</td>\n",
       "      <td>3.120</td>\n",
       "      <td>4.486000e-12</td>\n",
       "      <td>7.785000e-12</td>\n",
       "      <td>5.019000e-12</td>\n",
       "    </tr>\n",
       "    <tr>\n",
       "      <th>1</th>\n",
       "      <td>10.0</td>\n",
       "      <td>411.322</td>\n",
       "      <td>84.853</td>\n",
       "      <td>-119.556</td>\n",
       "      <td>16.029</td>\n",
       "      <td>7656.958</td>\n",
       "      <td>300.0</td>\n",
       "      <td>1304.478</td>\n",
       "      <td>-0.026</td>\n",
       "      <td>0.012</td>\n",
       "      <td>0.599</td>\n",
       "      <td>3.888</td>\n",
       "      <td>5.230000e-12</td>\n",
       "      <td>0.890</td>\n",
       "      <td>3.131</td>\n",
       "      <td>4.374000e-12</td>\n",
       "      <td>7.711000e-12</td>\n",
       "      <td>4.971000e-12</td>\n",
       "    </tr>\n",
       "    <tr>\n",
       "      <th>2</th>\n",
       "      <td>20.0</td>\n",
       "      <td>411.539</td>\n",
       "      <td>85.389</td>\n",
       "      <td>-115.340</td>\n",
       "      <td>16.313</td>\n",
       "      <td>7656.708</td>\n",
       "      <td>300.0</td>\n",
       "      <td>1303.784</td>\n",
       "      <td>-0.025</td>\n",
       "      <td>0.011</td>\n",
       "      <td>0.594</td>\n",
       "      <td>3.896</td>\n",
       "      <td>5.015000e-12</td>\n",
       "      <td>0.886</td>\n",
       "      <td>3.142</td>\n",
       "      <td>4.173000e-12</td>\n",
       "      <td>7.307000e-12</td>\n",
       "      <td>5.580000e-12</td>\n",
       "    </tr>\n",
       "    <tr>\n",
       "      <th>3</th>\n",
       "      <td>30.0</td>\n",
       "      <td>411.754</td>\n",
       "      <td>85.892</td>\n",
       "      <td>-110.047</td>\n",
       "      <td>16.668</td>\n",
       "      <td>7656.462</td>\n",
       "      <td>300.0</td>\n",
       "      <td>1303.029</td>\n",
       "      <td>-0.024</td>\n",
       "      <td>0.011</td>\n",
       "      <td>0.590</td>\n",
       "      <td>3.924</td>\n",
       "      <td>4.730000e-12</td>\n",
       "      <td>0.882</td>\n",
       "      <td>3.154</td>\n",
       "      <td>3.935000e-12</td>\n",
       "      <td>7.238000e-12</td>\n",
       "      <td>5.517000e-12</td>\n",
       "    </tr>\n",
       "    <tr>\n",
       "      <th>4</th>\n",
       "      <td>40.0</td>\n",
       "      <td>411.968</td>\n",
       "      <td>86.351</td>\n",
       "      <td>-103.346</td>\n",
       "      <td>17.118</td>\n",
       "      <td>7656.217</td>\n",
       "      <td>300.0</td>\n",
       "      <td>1302.210</td>\n",
       "      <td>-0.023</td>\n",
       "      <td>0.010</td>\n",
       "      <td>0.585</td>\n",
       "      <td>3.952</td>\n",
       "      <td>4.421000e-12</td>\n",
       "      <td>0.878</td>\n",
       "      <td>3.165</td>\n",
       "      <td>3.677000e-12</td>\n",
       "      <td>7.170000e-12</td>\n",
       "      <td>5.447000e-12</td>\n",
       "    </tr>\n",
       "    <tr>\n",
       "      <th>...</th>\n",
       "      <td>...</td>\n",
       "      <td>...</td>\n",
       "      <td>...</td>\n",
       "      <td>...</td>\n",
       "      <td>...</td>\n",
       "      <td>...</td>\n",
       "      <td>...</td>\n",
       "      <td>...</td>\n",
       "      <td>...</td>\n",
       "      <td>...</td>\n",
       "      <td>...</td>\n",
       "      <td>...</td>\n",
       "      <td>...</td>\n",
       "      <td>...</td>\n",
       "      <td>...</td>\n",
       "      <td>...</td>\n",
       "      <td>...</td>\n",
       "      <td>...</td>\n",
       "    </tr>\n",
       "    <tr>\n",
       "      <th>8635</th>\n",
       "      <td>86350.0</td>\n",
       "      <td>458.958</td>\n",
       "      <td>-80.227</td>\n",
       "      <td>43.494</td>\n",
       "      <td>2.882</td>\n",
       "      <td>7603.142</td>\n",
       "      <td>300.0</td>\n",
       "      <td>1320.750</td>\n",
       "      <td>0.015</td>\n",
       "      <td>0.003</td>\n",
       "      <td>0.533</td>\n",
       "      <td>4.461</td>\n",
       "      <td>3.398000e-12</td>\n",
       "      <td>0.831</td>\n",
       "      <td>3.363</td>\n",
       "      <td>2.891000e-12</td>\n",
       "      <td>4.071000e-12</td>\n",
       "      <td>2.951000e-12</td>\n",
       "    </tr>\n",
       "    <tr>\n",
       "      <th>8636</th>\n",
       "      <td>86360.0</td>\n",
       "      <td>458.845</td>\n",
       "      <td>-80.837</td>\n",
       "      <td>44.571</td>\n",
       "      <td>2.957</td>\n",
       "      <td>7603.256</td>\n",
       "      <td>300.0</td>\n",
       "      <td>1323.829</td>\n",
       "      <td>0.014</td>\n",
       "      <td>0.003</td>\n",
       "      <td>0.530</td>\n",
       "      <td>4.487</td>\n",
       "      <td>3.377000e-12</td>\n",
       "      <td>0.829</td>\n",
       "      <td>3.367</td>\n",
       "      <td>2.877000e-12</td>\n",
       "      <td>4.095000e-12</td>\n",
       "      <td>2.969000e-12</td>\n",
       "    </tr>\n",
       "    <tr>\n",
       "      <th>8637</th>\n",
       "      <td>86370.0</td>\n",
       "      <td>458.725</td>\n",
       "      <td>-81.443</td>\n",
       "      <td>45.807</td>\n",
       "      <td>3.042</td>\n",
       "      <td>7603.379</td>\n",
       "      <td>300.0</td>\n",
       "      <td>1326.879</td>\n",
       "      <td>0.013</td>\n",
       "      <td>0.003</td>\n",
       "      <td>0.527</td>\n",
       "      <td>4.513</td>\n",
       "      <td>3.345000e-12</td>\n",
       "      <td>0.827</td>\n",
       "      <td>3.371</td>\n",
       "      <td>2.855000e-12</td>\n",
       "      <td>4.118000e-12</td>\n",
       "      <td>2.988000e-12</td>\n",
       "    </tr>\n",
       "    <tr>\n",
       "      <th>8638</th>\n",
       "      <td>86380.0</td>\n",
       "      <td>458.598</td>\n",
       "      <td>-82.044</td>\n",
       "      <td>47.235</td>\n",
       "      <td>3.140</td>\n",
       "      <td>7603.511</td>\n",
       "      <td>300.0</td>\n",
       "      <td>1329.900</td>\n",
       "      <td>0.012</td>\n",
       "      <td>0.003</td>\n",
       "      <td>0.524</td>\n",
       "      <td>4.540</td>\n",
       "      <td>3.312000e-12</td>\n",
       "      <td>0.824</td>\n",
       "      <td>3.375</td>\n",
       "      <td>2.832000e-12</td>\n",
       "      <td>4.142000e-12</td>\n",
       "      <td>3.008000e-12</td>\n",
       "    </tr>\n",
       "    <tr>\n",
       "      <th>8639</th>\n",
       "      <td>86390.0</td>\n",
       "      <td>458.463</td>\n",
       "      <td>-82.640</td>\n",
       "      <td>48.900</td>\n",
       "      <td>3.254</td>\n",
       "      <td>7603.653</td>\n",
       "      <td>300.0</td>\n",
       "      <td>1332.890</td>\n",
       "      <td>0.011</td>\n",
       "      <td>0.004</td>\n",
       "      <td>0.521</td>\n",
       "      <td>4.567</td>\n",
       "      <td>3.311000e-12</td>\n",
       "      <td>0.822</td>\n",
       "      <td>3.378</td>\n",
       "      <td>2.836000e-12</td>\n",
       "      <td>4.166000e-12</td>\n",
       "      <td>3.028000e-12</td>\n",
       "    </tr>\n",
       "  </tbody>\n",
       "</table>\n",
       "<p>8640 rows × 18 columns</p>\n",
       "</div>"
      ],
      "text/plain": [
       "      GPS Time (sec)  Geodetic Altitude (km)  Geodetic Latitude (deg)  \\\n",
       "0                0.0                 411.103                   84.295   \n",
       "1               10.0                 411.322                   84.853   \n",
       "2               20.0                 411.539                   85.389   \n",
       "3               30.0                 411.754                   85.892   \n",
       "4               40.0                 411.968                   86.351   \n",
       "...              ...                     ...                      ...   \n",
       "8635         86350.0                 458.958                  -80.227   \n",
       "8636         86360.0                 458.845                  -80.837   \n",
       "8637         86370.0                 458.725                  -81.443   \n",
       "8638         86380.0                 458.598                  -82.044   \n",
       "8639         86390.0                 458.463                  -82.640   \n",
       "\n",
       "      Geodetic Longitude (deg)  Local Solar Time (hours)  \\\n",
       "0                     -122.957                    15.799   \n",
       "1                     -119.556                    16.029   \n",
       "2                     -115.340                    16.313   \n",
       "3                     -110.047                    16.668   \n",
       "4                     -103.346                    17.118   \n",
       "...                        ...                       ...   \n",
       "8635                    43.494                     2.882   \n",
       "8636                    44.571                     2.957   \n",
       "8637                    45.807                     3.042   \n",
       "8638                    47.235                     3.140   \n",
       "8639                    48.900                     3.254   \n",
       "\n",
       "      Velocity Magnitude (m/s)  Surface Temperature (K)  \\\n",
       "0                     7657.209                    300.0   \n",
       "1                     7656.958                    300.0   \n",
       "2                     7656.708                    300.0   \n",
       "3                     7656.462                    300.0   \n",
       "4                     7656.217                    300.0   \n",
       "...                        ...                      ...   \n",
       "8635                  7603.142                    300.0   \n",
       "8636                  7603.256                    300.0   \n",
       "8637                  7603.379                    300.0   \n",
       "8638                  7603.511                    300.0   \n",
       "8639                  7603.653                    300.0   \n",
       "\n",
       "      Free Stream Temperature (K)  Yaw (rad)  Pitch (rad)  \\\n",
       "0                        1305.112     -0.027        0.012   \n",
       "1                        1304.478     -0.026        0.012   \n",
       "2                        1303.784     -0.025        0.011   \n",
       "3                        1303.029     -0.024        0.011   \n",
       "4                        1302.210     -0.023        0.010   \n",
       "...                           ...        ...          ...   \n",
       "8635                     1320.750      0.015        0.003   \n",
       "8636                     1323.829      0.014        0.003   \n",
       "8637                     1326.879      0.013        0.003   \n",
       "8638                     1329.900      0.012        0.003   \n",
       "8639                     1332.890      0.011        0.004   \n",
       "\n",
       "      Proj_Area_Eric (m^2)  CD_Eric (~)  Density_Eric (kg/m^3)  \\\n",
       "0                    0.604        3.861           5.364000e-12   \n",
       "1                    0.599        3.888           5.230000e-12   \n",
       "2                    0.594        3.896           5.015000e-12   \n",
       "3                    0.590        3.924           4.730000e-12   \n",
       "4                    0.585        3.952           4.421000e-12   \n",
       "...                    ...          ...                    ...   \n",
       "8635                 0.533        4.461           3.398000e-12   \n",
       "8636                 0.530        4.487           3.377000e-12   \n",
       "8637                 0.527        4.513           3.345000e-12   \n",
       "8638                 0.524        4.540           3.312000e-12   \n",
       "8639                 0.521        4.567           3.311000e-12   \n",
       "\n",
       "      Proj_Area_New (m^2)  CD_New (~)  Density_New (kg/m^3)  \\\n",
       "0                   0.893       3.120          4.486000e-12   \n",
       "1                   0.890       3.131          4.374000e-12   \n",
       "2                   0.886       3.142          4.173000e-12   \n",
       "3                   0.882       3.154          3.935000e-12   \n",
       "4                   0.878       3.165          3.677000e-12   \n",
       "...                   ...         ...                   ...   \n",
       "8635                0.831       3.363          2.891000e-12   \n",
       "8636                0.829       3.367          2.877000e-12   \n",
       "8637                0.827       3.371          2.855000e-12   \n",
       "8638                0.824       3.375          2.832000e-12   \n",
       "8639                0.822       3.378          2.836000e-12   \n",
       "\n",
       "      Density_HASDM (kg/m^3)  Density_JB2008 (kg/m^3)  \n",
       "0               7.785000e-12             5.019000e-12  \n",
       "1               7.711000e-12             4.971000e-12  \n",
       "2               7.307000e-12             5.580000e-12  \n",
       "3               7.238000e-12             5.517000e-12  \n",
       "4               7.170000e-12             5.447000e-12  \n",
       "...                      ...                      ...  \n",
       "8635            4.071000e-12             2.951000e-12  \n",
       "8636            4.095000e-12             2.969000e-12  \n",
       "8637            4.118000e-12             2.988000e-12  \n",
       "8638            4.142000e-12             3.008000e-12  \n",
       "8639            4.166000e-12             3.028000e-12  \n",
       "\n",
       "[8640 rows x 18 columns]"
      ]
     },
     "execution_count": 69,
     "metadata": {},
     "output_type": "execute_result"
    }
   ],
   "source": [
    "import pandas as pd\n",
    "\n",
    "header_label = ['GPS Time (sec)','Geodetic Altitude (km)','Geodetic Latitude (deg)','Geodetic Longitude (deg)','Local Solar Time (hours)','Velocity Magnitude (m/s)','Surface Temperature (K)','Free Stream Temperature (K)','Yaw (rad)','Pitch (rad)','Proj_Area_Eric (m^2)','CD_Eric (~)','Density_Eric (kg/m^3)','Proj_Area_New (m^2)','CD_New (~)','Density_New (kg/m^3)','Density_HASDM (kg/m^3)','Density_JB2008 (kg/m^3)' ]\n",
    "df=pd.read_csv('Data/Champ_dens_2002/CHAMP_Density_02_001_v2.txt', delim_whitespace=True, header=None, skiprows=1)\n",
    "df.columns = header_label\n",
    "df.head()"
   ]
  },
  {
   "cell_type": "markdown",
   "metadata": {},
   "source": [
    "### Hint 3: Data slicing (Identifying data index of interest and extracting the relevant data (local solar time, lattitude, altitude))"
   ]
  },
  {
   "cell_type": "code",
   "execution_count": 70,
   "metadata": {},
   "outputs": [
    {
     "name": "stdout",
     "output_type": "stream",
     "text": [
      "1    411.322\n",
      "Name: Geodetic Altitude (km), dtype: float64\n"
     ]
    }
   ],
   "source": [
    "import numpy as np\n",
    "\n",
    "idx_interest = np.where(df['GPS Time (sec)']== 10)[0] # get index of data that satisfy our condition\n",
    "print(df['Geodetic Altitude (km)'][idx_interest])"
   ]
  },
  {
   "cell_type": "markdown",
   "metadata": {},
   "source": [
    "### Hint 4: The remainder operator is given by % and might be useful."
   ]
  },
  {
   "cell_type": "code",
   "execution_count": 71,
   "metadata": {},
   "outputs": [
    {
     "name": "stdout",
     "output_type": "stream",
     "text": [
      "[1. 2. 3. 4. 0. 1. 2. 3. 4. 0. 1. 2. 3. 4. 0. 1. 2. 3. 4. 0.]\n"
     ]
    }
   ],
   "source": [
    "arr = np.linspace(1,20,20)\n",
    "print(arr%5)"
   ]
  },
  {
   "cell_type": "markdown",
   "metadata": {},
   "source": [
    "## Assignment 1 (b): Load the date that we have used in the morning and use 3d interpolation to obtain the density values along CHAMP's trajectory"
   ]
  },
  {
   "cell_type": "markdown",
   "metadata": {},
   "source": [
    "### Hint 1: Follow the instruction from the morning section and use RegularGridInterpolator from the scipy.interpolate package"
   ]
  },
  {
   "cell_type": "code",
   "execution_count": 74,
   "metadata": {},
   "outputs": [],
   "source": [
    "from scipy.interpolate import RegularGridInterpolator\n",
    "\n",
    "# First create a set of sample data that we will be using 3D interpolant on\n",
    "def f(x, y, z):\n",
    "    return 2 * x**3 + 3 * y**2 - z\n",
    "\n",
    "x = np.linspace(1, 4, 11)\n",
    "y = np.linspace(4, 7, 22)\n",
    "z = np.linspace(7, 9, 33)\n",
    "xg, yg ,zg = np.meshgrid(x, y, z, indexing='ij', sparse=True)\n",
    "\n",
    "sample_data = f(xg, yg, zg)"
   ]
  },
  {
   "cell_type": "code",
   "execution_count": 75,
   "metadata": {},
   "outputs": [],
   "source": [
    "# Generate Interpolant (interpolating function)\n",
    "my_interpolating_function = RegularGridInterpolator((x, y, z), sample_data)"
   ]
  },
  {
   "cell_type": "code",
   "execution_count": 76,
   "metadata": {},
   "outputs": [
    {
     "data": {
      "text/plain": [
       "array([125.80469388, 146.30069388])"
      ]
     },
     "execution_count": 76,
     "metadata": {},
     "output_type": "execute_result"
    }
   ],
   "source": [
    "# Say we are interested in the points [[2.1, 6.2, 8.3], [3.3, 5.2, 7.1]]\n",
    "pts = np.array([[2.1, 6.2, 8.3], [3.3, 5.2, 7.1]])\n",
    "my_interpolating_function(pts)"
   ]
  },
  {
   "cell_type": "markdown",
   "metadata": {},
   "source": [
    "## Assignment 1(c): Visualize the density along the CHAMP's trajectory as a function of time"
   ]
  },
  {
   "cell_type": "markdown",
   "metadata": {},
   "source": [
    "## Assignment 1(d): Now do it using the TIE-GCM density data and plot both density variation under the same figure"
   ]
  },
  {
   "cell_type": "markdown",
   "metadata": {},
   "source": [
    "## Assignment 1(e): The plots look messy. Let's calculate the daily average density and plot those instead. \n",
    "\n",
    "Hint: Use np.reshape and np.mean"
   ]
  },
  {
   "cell_type": "markdown",
   "metadata": {},
   "source": [
    "## Assignment 1(f): Load the accelerometer derived density from the CHAMP data (Density_New (kg/m^3)). Calculate the daily mean density and plot this value together with the JB2008 density and TIE-GCM density calculated above."
   ]
  },
  {
   "cell_type": "markdown",
   "metadata": {},
   "source": [
    "## Assignment 2: Make a python function that will parse the inputs to output the TIE-GCM density any arbritary position (local solar time, latitude, altitude) and an arbritary day of year and hour in 2002"
   ]
  },
  {
   "cell_type": "code",
   "execution_count": null,
   "metadata": {},
   "outputs": [],
   "source": []
  }
 ],
 "metadata": {
  "colab": {
   "authorship_tag": "ABX9TyO2oot003ANP6iKoUym11XN",
   "collapsed_sections": [],
   "name": "summer_school_afternoon.ipynb",
   "provenance": []
  },
  "kernelspec": {
   "display_name": "Python 3 (ipykernel)",
   "language": "python",
   "name": "python3"
  },
  "language_info": {
   "codemirror_mode": {
    "name": "ipython",
    "version": 3
   },
   "file_extension": ".py",
   "mimetype": "text/x-python",
   "name": "python",
   "nbconvert_exporter": "python",
   "pygments_lexer": "ipython3",
   "version": "3.8.12"
  }
 },
 "nbformat": 4,
 "nbformat_minor": 1
}
